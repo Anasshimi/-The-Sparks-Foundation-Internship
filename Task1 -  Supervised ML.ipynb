{
 "cells": [
  {
   "cell_type": "markdown",
   "metadata": {},
   "source": [
    "<h3> GRIP internship #Oct2020 </h3>"
   ]
  },}
